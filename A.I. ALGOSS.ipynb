{
 "cells": [
  {
   "cell_type": "code",
   "execution_count": null,
   "metadata": {},
   "outputs": [],
   "source": []
  },
  {
   "cell_type": "markdown",
   "metadata": {},
   "source": [
    "#  Static tree"
   ]
  },
  {
   "cell_type": "code",
   "execution_count": 1,
   "metadata": {},
   "outputs": [
    {
     "name": "stdout",
     "output_type": "stream",
     "text": [
      "C\n",
      "A\n"
     ]
    }
   ],
   "source": [
    "class Nodes():\n",
    "    def __init__(self,val):\n",
    "        self.val = val\n",
    "        self.child = None\n",
    "        self.parent = None\n",
    "        \n",
    "    def printVal(self):\n",
    "        return self.val\n",
    "        \n",
    "    def addChild(self,child):\n",
    "        child.parent = self\n",
    "        if(child is None):\n",
    "            self.child = NaN\n",
    "        else:\n",
    "            self.child = child\n",
    "            \n",
    "    def printChild(self):\n",
    "        return self.child.printVal()\n",
    "    \n",
    "    def printParent(self):\n",
    "        return self.parent.printVal()\n",
    "        \n",
    "        \n",
    "n1 = Nodes('A')\n",
    "\n",
    "n2 = Nodes('B')\n",
    "n3 = Nodes('C')\n",
    "\n",
    "n1.addChild(n2)\n",
    "n1.addChild(n3)\n",
    "\n",
    "print(n1.printChild())\n",
    "# print(n2.printVal())\n",
    "\n",
    "\n",
    "print(n2.printParent())"
   ]
  },
  {
   "cell_type": "code",
   "execution_count": null,
   "metadata": {},
   "outputs": [],
   "source": []
  },
  {
   "cell_type": "code",
   "execution_count": null,
   "metadata": {},
   "outputs": [],
   "source": []
  },
  {
   "cell_type": "code",
   "execution_count": null,
   "metadata": {},
   "outputs": [],
   "source": []
  },
  {
   "cell_type": "code",
   "execution_count": null,
   "metadata": {},
   "outputs": [],
   "source": []
  },
  {
   "cell_type": "code",
   "execution_count": null,
   "metadata": {},
   "outputs": [],
   "source": []
  },
  {
   "cell_type": "code",
   "execution_count": 11,
   "metadata": {},
   "outputs": [],
   "source": [
    "# A -> C D\n",
    "# C -> H I\n",
    "# D -> J K\n",
    "# H -> P Q\n",
    "# I -> \n",
    "# J -> R S\n",
    "# K -> \n",
    "# P -> V W\n",
    "# Q -> \n",
    "# R -> \n",
    "# S -> X Y\n",
    "# V -> \n",
    "# W -> \n",
    "# X -> \n",
    "# Y -> "
   ]
  },
  {
   "cell_type": "code",
   "execution_count": null,
   "metadata": {},
   "outputs": [],
   "source": []
  },
  {
   "cell_type": "code",
   "execution_count": null,
   "metadata": {},
   "outputs": [],
   "source": []
  },
  {
   "cell_type": "code",
   "execution_count": 1,
   "metadata": {},
   "outputs": [],
   "source": [
    "# GRAPH"
   ]
  },
  {
   "cell_type": "code",
   "execution_count": 34,
   "metadata": {},
   "outputs": [],
   "source": [
    "\"\"\" A Python Class\n",
    "A simple Python graph class, demonstrating the essential \n",
    "facts and functionalities of graphs.\n",
    "\"\"\"\n",
    "\n",
    "\n",
    "class Graph(object):\n",
    "\n",
    "    def __init__(self, graph_dict=None):\n",
    "        \"\"\" initializes a graph object \n",
    "            If no dictionary or None is given, \n",
    "            an empty dictionary will be used\n",
    "        \"\"\"\n",
    "        if graph_dict == None:\n",
    "            graph_dict = {}\n",
    "        self.__graph_dict = graph_dict\n",
    "\n",
    "    def vertices(self):\n",
    "        \"\"\" returns the vertices of a graph \"\"\"\n",
    "        return list(self.__graph_dict.keys())\n",
    "\n",
    "    def edges(self):\n",
    "        \"\"\" returns the edges of a graph \"\"\"\n",
    "        return self.__generate_edges()\n",
    "\n",
    "    def add_vertex(self, vertex):\n",
    "        \"\"\" If the vertex \"vertex\" is not in \n",
    "            self.__graph_dict, a key \"vertex\" with an empty\n",
    "            list as a value is added to the dictionary. \n",
    "            Otherwise nothing has to be done. \n",
    "        \"\"\"\n",
    "        if vertex not in self.__graph_dict:\n",
    "            self.__graph_dict[vertex] = []\n",
    "\n",
    "    def add_edge(self, edge):\n",
    "        \"\"\" assumes that edge is of type set, tuple or list; \n",
    "            between two vertices can be multiple edges! \n",
    "        \"\"\"\n",
    "        edge = set(edge)\n",
    "        (vertex1, vertex2) = tuple(edge)\n",
    "        if vertex1 in self.__graph_dict:\n",
    "            self.__graph_dict[vertex1].append(vertex2)\n",
    "        else:\n",
    "            self.__graph_dict[vertex1] = [vertex2]\n",
    "\n",
    "    def __generate_edges(self):\n",
    "        \"\"\" A static method generating the edges of the \n",
    "            graph \"graph\". Edges are represented as sets \n",
    "            with one (a loop back to the vertex) or two \n",
    "            vertices \n",
    "        \"\"\"\n",
    "        edges = []\n",
    "        for vertex in self.__graph_dict:\n",
    "            for neighbour in self.__graph_dict[vertex]:\n",
    "                if {neighbour, vertex} not in edges:\n",
    "                    edges.append({vertex, neighbour})\n",
    "        return edges\n",
    "\n",
    "    def __str__(self):\n",
    "        res = \"vertices: \"\n",
    "        for k in self.__graph_dict:\n",
    "            res += str(k) + \" \"\n",
    "        res += \"\\nedges: \"\n",
    "        for edge in self.__generate_edges():\n",
    "            res += str(edge) + \" \"\n",
    "        return res\n"
   ]
  },
  {
   "cell_type": "code",
   "execution_count": 35,
   "metadata": {},
   "outputs": [
    {
     "name": "stdout",
     "output_type": "stream",
     "text": [
      "Vertices of graph:\n",
      "['a', 'b', 'c', 'd', 'e', 'f']\n",
      "Edges of graph:\n",
      "[{'a', 'd'}, {'c', 'b'}, {'c'}, {'d', 'c'}, {'e', 'c'}]\n",
      "Add vertex:\n",
      "Vertices of graph:\n",
      "['a', 'b', 'c', 'd', 'e', 'f', 'z']\n",
      "Add an edge:\n",
      "Vertices of graph:\n",
      "['a', 'b', 'c', 'd', 'e', 'f', 'z']\n",
      "Edges of graph:\n",
      "[{'a', 'd'}, {'a', 'z'}, {'c', 'b'}, {'c'}, {'d', 'c'}, {'e', 'c'}]\n",
      "Adding an edge {\"x\",\"y\"} with new vertices:\n",
      "Vertices of graph:\n",
      "['a', 'b', 'c', 'd', 'e', 'f', 'z', 'x']\n",
      "Edges of graph:\n",
      "[{'a', 'd'}, {'a', 'z'}, {'c', 'b'}, {'c'}, {'d', 'c'}, {'e', 'c'}, {'x', 'y'}]\n"
     ]
    }
   ],
   "source": [
    "\n",
    "\n",
    "if __name__ == \"__main__\":\n",
    "\n",
    "    g = { \"a\" : [\"d\"],\n",
    "          \"b\" : [\"c\"],\n",
    "          \"c\" : [\"b\", \"c\", \"d\", \"e\"],\n",
    "          \"d\" : [\"a\", \"c\"],\n",
    "          \"e\" : [\"c\"],\n",
    "          \"f\" : []\n",
    "        }\n",
    "\n",
    "\n",
    "    graph = Graph(g)\n",
    "\n",
    "    print(\"Vertices of graph:\")\n",
    "    print(graph.vertices())\n",
    "\n",
    "    print(\"Edges of graph:\")\n",
    "    print(graph.edges())\n",
    "\n",
    "    print(\"Add vertex:\")\n",
    "    graph.add_vertex(\"z\")\n",
    "\n",
    "    print(\"Vertices of graph:\")\n",
    "    print(graph.vertices())\n",
    " \n",
    "    print(\"Add an edge:\")\n",
    "    graph.add_edge({\"a\",\"z\"})\n",
    "    \n",
    "    print(\"Vertices of graph:\")\n",
    "    print(graph.vertices())\n",
    "\n",
    "    print(\"Edges of graph:\")\n",
    "    print(graph.edges())\n",
    "\n",
    "    print('Adding an edge {\"x\",\"y\"} with new vertices:')\n",
    "    graph.add_edge({\"x\",\"y\"})\n",
    "    print(\"Vertices of graph:\")\n",
    "    print(graph.vertices())\n",
    "    print(\"Edges of graph:\")\n",
    "    print(graph.edges())"
   ]
  },
  {
   "cell_type": "code",
   "execution_count": null,
   "metadata": {},
   "outputs": [],
   "source": []
  },
  {
   "cell_type": "code",
   "execution_count": null,
   "metadata": {},
   "outputs": [],
   "source": []
  },
  {
   "cell_type": "code",
   "execution_count": null,
   "metadata": {},
   "outputs": [],
   "source": []
  },
  {
   "cell_type": "code",
   "execution_count": null,
   "metadata": {},
   "outputs": [],
   "source": []
  },
  {
   "cell_type": "code",
   "execution_count": null,
   "metadata": {},
   "outputs": [],
   "source": []
  },
  {
   "cell_type": "markdown",
   "metadata": {},
   "source": [
    "# DFS FINALLY DONE!!"
   ]
  },
  {
   "cell_type": "code",
   "execution_count": 1,
   "metadata": {},
   "outputs": [],
   "source": [
    "class Nodes(object):\n",
    "    \n",
    "#     orderOfNodes = []\n",
    "    def __init__(self, treeDict =None):\n",
    "        \n",
    "        if(treeDict is None):\n",
    "            self.treeDict = {}\n",
    "        else:\n",
    "            self.treeDict = treeDict\n",
    "            \n",
    "    def showNodes(self):\n",
    "        return list(self.treeDict.keys())\n",
    "    \n",
    "#TO BE TESTED \n",
    "#     @staticmethod\n",
    "#     def orderOfNodes(val,li=None):\n",
    "#         if(li is None):\n",
    "#             li=[]\n",
    "#         li.append(val)\n",
    "#         return list(li)\n",
    "        \n",
    "#     def printOrd(self):\n",
    "#         self.orderOfNodes.append(valu)\n",
    "        \n",
    "        \n",
    "    \n",
    "    def findPath(self, startNode, goalNode, stack, path=None, orderOfNodes = None,count = 0):\n",
    "        if path == None:\n",
    "            path = []\n",
    "        if orderOfNodes == None:\n",
    "            orderOfNodes = []\n",
    "        tree = self.treeDict\n",
    "        path = path + [startNode]\n",
    "        print(stack)\n",
    "        temp = stack.pop(0)\n",
    "#         self.orderOfNodes.append(temp)\n",
    "        orderOfNodes.append(temp)\n",
    "        stack = tree[temp] + stack\n",
    "        count+=1\n",
    "        if startNode == goalNode:\n",
    "            return path,count-1,orderOfNodes\n",
    "        if startNode not in tree:\n",
    "            return None\n",
    "        for vertex in tree[startNode]:\n",
    "            if vertex not in path:\n",
    "                extended_path = self.findPath(vertex, goalNode, stack, path, orderOfNodes ,count)\n",
    "                if extended_path: \n",
    "                    return extended_path\n",
    "        return None"
   ]
  },
  {
   "cell_type": "code",
   "execution_count": null,
   "metadata": {},
   "outputs": [],
   "source": []
  },
  {
   "cell_type": "code",
   "execution_count": null,
   "metadata": {},
   "outputs": [],
   "source": []
  },
  {
   "cell_type": "code",
   "execution_count": null,
   "metadata": {},
   "outputs": [],
   "source": []
  },
  {
   "cell_type": "code",
   "execution_count": null,
   "metadata": {},
   "outputs": [],
   "source": []
  },
  {
   "cell_type": "code",
   "execution_count": 2,
   "metadata": {},
   "outputs": [
    {
     "name": "stdout",
     "output_type": "stream",
     "text": [
      "Enter no of nodes15\n",
      "Enter node -> a\n",
      "Enter its child node -> c d\n",
      "Enter node -> c\n",
      "Enter its child node -> h i\n",
      "Enter node -> d\n",
      "Enter its child node -> j k\n",
      "Enter node -> h\n",
      "Enter its child node -> p q\n",
      "Enter node -> i\n",
      "Enter its child node -> \n",
      "Enter node -> j\n",
      "Enter its child node -> r s\n",
      "Enter node -> k\n",
      "Enter its child node -> \n",
      "Enter node -> p\n",
      "Enter its child node -> v w\n",
      "Enter node -> q\n",
      "Enter its child node -> \n",
      "Enter node -> r\n",
      "Enter its child node -> \n",
      "Enter node -> s\n",
      "Enter its child node -> x y\n",
      "Enter node -> v\n",
      "Enter its child node -> \n",
      "Enter node -> w\n",
      "Enter its child node -> \n",
      "Enter node -> x\n",
      "Enter its child node -> \n",
      "Enter node -> y\n",
      "Enter its child node -> \n",
      "a -> ['c', 'd']\n",
      "c -> ['h', 'i']\n",
      "d -> ['j', 'k']\n",
      "h -> ['p', 'q']\n",
      "i -> []\n",
      "j -> ['r', 's']\n",
      "k -> []\n",
      "p -> ['v', 'w']\n",
      "q -> []\n",
      "r -> []\n",
      "s -> ['x', 'y']\n",
      "v -> []\n",
      "w -> []\n",
      "x -> []\n",
      "y -> []\n"
     ]
    }
   ],
   "source": [
    "n = int(input(\"Enter no of nodes\"))\n",
    "\n",
    "g={}\n",
    "for i in range(n):\n",
    "    sNode = input(\"Enter node -> \")\n",
    "    cNodes = input(\"Enter its child node -> \").split()\n",
    "    g[sNode] = cNodes\n",
    "    \n",
    "\n",
    "    \n",
    "for key,val in g.items():\n",
    "    print(f'{key} -> {val}')\n",
    "# print(g)"
   ]
  },
  {
   "cell_type": "code",
   "execution_count": 3,
   "metadata": {},
   "outputs": [
    {
     "data": {
      "text/plain": [
       "['a', 'c', 'd', 'h', 'i', 'j', 'k', 'p', 'q', 'r', 's', 'v', 'w', 'x', 'y']"
      ]
     },
     "execution_count": 3,
     "metadata": {},
     "output_type": "execute_result"
    }
   ],
   "source": [
    "n = Nodes(g)\n",
    "n.showNodes() # displays all nodes.."
   ]
  },
  {
   "cell_type": "code",
   "execution_count": null,
   "metadata": {},
   "outputs": [],
   "source": []
  },
  {
   "cell_type": "code",
   "execution_count": 4,
   "metadata": {},
   "outputs": [
    {
     "name": "stdout",
     "output_type": "stream",
     "text": [
      "Enter start node a\n",
      "Enter goal node w\n",
      "\n",
      "['a']\n",
      "['c', 'd']\n",
      "['h', 'i', 'd']\n",
      "['p', 'q', 'i', 'd']\n",
      "['v', 'w', 'q', 'i', 'd']\n",
      "['w', 'q', 'i', 'd']\n",
      "Order of Nodes ->  ['a', 'c', 'h', 'p', 'v', 'w']\n",
      "Solution Path ->  ['a', 'c', 'h', 'p', 'w']\n",
      "Cost ->  4\n"
     ]
    }
   ],
   "source": [
    "startNode = input(\"Enter start node \")\n",
    "goalNode = input(\"Enter goal node \")\n",
    "stack = [startNode]\n",
    "print()\n",
    "\n",
    "\n",
    "solnPath, Cost, ordor= n.findPath(startNode,goalNode,stack) #displays\n",
    "print(\"Order of Nodes -> \",ordor)\n",
    "print(\"Solution Path -> \",solnPath)\n",
    "print(\"Cost -> \",Cost)"
   ]
  },
  {
   "cell_type": "code",
   "execution_count": null,
   "metadata": {},
   "outputs": [],
   "source": []
  },
  {
   "cell_type": "code",
   "execution_count": null,
   "metadata": {},
   "outputs": [],
   "source": []
  },
  {
   "cell_type": "markdown",
   "metadata": {},
   "source": [
    "# DLS Done Coding..."
   ]
  },
  {
   "cell_type": "code",
   "execution_count": null,
   "metadata": {},
   "outputs": [],
   "source": []
  },
  {
   "cell_type": "code",
   "execution_count": 1,
   "metadata": {},
   "outputs": [],
   "source": [
    "class Nodes(object):\n",
    "    \n",
    "#     orderOfNodes = [] \n",
    "    def __init__(self, treeDict =None):\n",
    "        \n",
    "        if(treeDict is None):\n",
    "            self.treeDict = {}\n",
    "        else:\n",
    "            self.treeDict = treeDict\n",
    "            \n",
    "    def showNodes(self):\n",
    "        return list(self.treeDict.keys())\n",
    "    \n",
    "    def findPath(self, limit, startNode, goalNode, stack=None, path=None, stackyStack=None, cost=0):\n",
    "        if(path==None):\n",
    "            path=[]\n",
    "        if(stack==None):\n",
    "            stack=[startNode]\n",
    "        if(stackyStack==None):\n",
    "            stackyStack=[]\n",
    "        tree = self.treeDict\n",
    "        if(startNode not in tree):\n",
    "            return None\n",
    "#         print(stack)\n",
    "        path = path + [startNode]\n",
    "        stackyStack.append(stack)\n",
    "#         print(stack)\n",
    "        if(startNode==goalNode):\n",
    "            return path,cost,stackyStack\n",
    "        temp = stack.pop(0)\n",
    "        stack = tree[temp] + stack\n",
    "        cost+=1\n",
    "        \n",
    "        for value in tree[startNode]:\n",
    "            if(value not in path):\n",
    "                extended_path = self.findPath(limit, value, goalNode, stack, path, stackyStack, cost)\n",
    "                if extended_path: \n",
    "                    return extended_path\n",
    "        return None\n"
   ]
  },
  {
   "cell_type": "code",
   "execution_count": 2,
   "metadata": {},
   "outputs": [
    {
     "name": "stdout",
     "output_type": "stream",
     "text": [
      "Enter no of nodes15\n",
      "Enter node -> a\n",
      "Enter its child node -> c d\n",
      "Enter node -> c\n",
      "Enter its child node -> h i\n",
      "Enter node -> d\n",
      "Enter its child node -> j k\n",
      "Enter node -> h\n",
      "Enter its child node -> p q\n",
      "Enter node -> i\n",
      "Enter its child node -> \n",
      "Enter node -> j\n",
      "Enter its child node -> r s\n",
      "Enter node -> k\n",
      "Enter its child node -> \n",
      "Enter node -> p\n",
      "Enter its child node -> v W\n",
      "Enter node -> q\n",
      "Enter its child node -> \n",
      "Enter node -> r\n",
      "Enter its child node -> \n",
      "Enter node -> s\n",
      "Enter its child node -> x y\n",
      "Enter node -> v\n",
      "Enter its child node -> \n",
      "Enter node -> w\n",
      "Enter its child node -> \n",
      "Enter node -> x\n",
      "Enter its child node -> \n",
      "Enter node -> y\n",
      "Enter its child node -> \n",
      "a -> ['c', 'd']\n",
      "c -> ['h', 'i']\n",
      "d -> ['j', 'k']\n",
      "h -> ['p', 'q']\n",
      "i -> []\n",
      "j -> ['r', 's']\n",
      "k -> []\n",
      "p -> ['v', 'W']\n",
      "q -> []\n",
      "r -> []\n",
      "s -> ['x', 'y']\n",
      "v -> []\n",
      "w -> []\n",
      "x -> []\n",
      "y -> []\n"
     ]
    }
   ],
   "source": [
    "n = int(input(\"Enter no of nodes\"))\n",
    "\n",
    "g={}\n",
    "for i in range(n):\n",
    "    sNode = input(\"Enter node -> \")\n",
    "    cNodes = input(\"Enter its child node -> \").split()\n",
    "    g[sNode] = cNodes\n",
    "\n",
    "for key,val in g.items():\n",
    "    print(f'{key} -> {val}')\n",
    "# print(g)"
   ]
  },
  {
   "cell_type": "code",
   "execution_count": 3,
   "metadata": {},
   "outputs": [
    {
     "data": {
      "text/plain": [
       "['a', 'c', 'd', 'h', 'i', 'j', 'k', 'p', 'q', 'r', 's', 'v', 'w', 'x', 'y']"
      ]
     },
     "execution_count": 3,
     "metadata": {},
     "output_type": "execute_result"
    }
   ],
   "source": [
    "n = Nodes(g)\n",
    "n.showNodes() # displays all nodes..\n",
    "\n"
   ]
  },
  {
   "cell_type": "code",
   "execution_count": 5,
   "metadata": {},
   "outputs": [
    {
     "name": "stdout",
     "output_type": "stream",
     "text": [
      "Enter start node a\n",
      "Enter goal node q\n",
      "Enter depth2\n",
      "Not reachable\n"
     ]
    }
   ],
   "source": [
    "startNode = input(\"Enter start node \")\n",
    "goalNode = input(\"Enter goal node \")\n",
    "limit = int(input(\"Enter depth\"))\n",
    "\n",
    "pathy,costy,stackyStacky= n.findPath(limit,startNode,goalNode) #displays\n",
    "\n",
    "if(limit>=costy):\n",
    "    for i in stackyStacky:\n",
    "        print(i)\n",
    "    print(\"Pathy -> \",pathy)\n",
    "    print(\"Costy -> \",costy)\n",
    "else:\n",
    "    print(\"Not reachable\")\n",
    "\n",
    "# startNode = input(\"Enter start node \")\n",
    "# goalNode = input(\"Enter goal node \")\n",
    "# limit = int(input(\"Enter depth\"))\n",
    "# # depthLimit = int(input(\" Enter the limit\"))\n",
    "# # stack = [startNode]\n",
    "# # print()\n",
    "# # solnPath, Cost, ordor= n.findPath(depthLimit, startNode,goalNode,stack) #displays\n",
    "# # print(\"Order of Nodes -> \",ordor)\n",
    "# # print(\"Solution Path -> \",solnPath)\n",
    "# # print(\"Cost -> \",Cost)\n",
    "# pathy,stacky,costy,ordor= n.findPath(limit, startNode,goalNode) #displays\n",
    "\n",
    "# # print(\"unreachable\")\n",
    "# print(\"Pathy -> \",pathy)\n",
    "# print(\"Stacky -> \",stacky)\n",
    "# print(\"Costy -> \",costy)\n",
    "# print(\"Order -> \",ordor)\n"
   ]
  },
  {
   "cell_type": "code",
   "execution_count": null,
   "metadata": {},
   "outputs": [],
   "source": []
  },
  {
   "cell_type": "code",
   "execution_count": null,
   "metadata": {},
   "outputs": [],
   "source": []
  },
  {
   "cell_type": "code",
   "execution_count": null,
   "metadata": {},
   "outputs": [],
   "source": []
  },
  {
   "cell_type": "code",
   "execution_count": 1,
   "metadata": {},
   "outputs": [],
   "source": [
    "    def findPath(self, depthLimit, startNode, goalNode, stack=None, path=None, orderOfNodes = None,count = -1):\n",
    "        if path == None:\n",
    "            path = []\n",
    "        if orderOfNodes == None:\n",
    "            orderOfNodes = []\n",
    "        if(stack==None):\n",
    "            stack=[startNode]\n",
    "        tree = self.treeDict\n",
    "        if startNode not in tree:\n",
    "            return None\n",
    "        path = path + [startNode]\n",
    "        print(stack)\n",
    "        temp = stack.pop(0)\n",
    "#         self.orderOfNodes.append(temp)\n",
    "#         depthLimit-=1\n",
    "        orderOfNodes.append(temp)\n",
    "        stack = tree[temp] + stack\n",
    "#         print(depthLimit)\n",
    "        count+=1\n",
    "        depthLimit=depthLimit-1\n",
    "        if startNode == goalNode:\n",
    "            return path,stack,count,orderOfNodes\n",
    "#         print(stack)\n",
    "#         print(path)\n",
    "#         print(depthLimit)\n",
    "        if(depthLimit==0):\n",
    "#         if(depthLimit<count):\n",
    "#             print(\"Depth short\")\n",
    "            return path,stack,count,orderOfNodes\n",
    "        for vertex in tree[startNode]:\n",
    "            if vertex not in path:\n",
    "                extended_path = self.findPath(depthLimit, vertex, goalNode, stack, path, orderOfNodes ,count)\n",
    "                if extended_path: \n",
    "                    return extended_path\n",
    "        return None\n",
    "    \n",
    "#             if((goalNode in stack) and depthLimit==count-1):\n",
    "#             print(\"Not reachable!!\")\n",
    "#             return path,count-1,orderOfNodes\n",
    "        "
   ]
  },
  {
   "cell_type": "markdown",
   "metadata": {},
   "source": [
    "### Testing phaise"
   ]
  },
  {
   "cell_type": "code",
   "execution_count": null,
   "metadata": {},
   "outputs": [],
   "source": [
    "class Nodes(object):\n",
    "    \n",
    "    def __init__(self, treeDict =None):\n",
    "        \n",
    "        if(treeDict is None):\n",
    "            self.treeDict = {}\n",
    "        else:\n",
    "            self.treeDict = treeDict\n",
    "            \n",
    "    def showNodes(self):\n",
    "        return list(self.treeDict.keys())\n",
    "    \n",
    "    def findPath(self, startNode, goalNode, path=None):\n",
    "        if path == None:\n",
    "            path = []\n",
    "        tree = self.treeDict\n",
    "        path = path + [startNode]\n",
    "        if startNode == goalNode:\n",
    "            return path\n",
    "        if startNode not in tree:\n",
    "            return None\n",
    "        for vertex in tree[startNode]:\n",
    "            if vertex not in path:\n",
    "                extended_path = self.findPath(vertex, goalNode, path)\n",
    "                if extended_path: \n",
    "                    return extended_path\n",
    "        return None"
   ]
  },
  {
   "cell_type": "code",
   "execution_count": null,
   "metadata": {},
   "outputs": [],
   "source": []
  },
  {
   "cell_type": "code",
   "execution_count": null,
   "metadata": {},
   "outputs": [],
   "source": []
  },
  {
   "cell_type": "code",
   "execution_count": null,
   "metadata": {},
   "outputs": [],
   "source": []
  },
  {
   "cell_type": "markdown",
   "metadata": {},
   "source": [
    "# BFS DONE"
   ]
  },
  {
   "cell_type": "code",
   "execution_count": null,
   "metadata": {},
   "outputs": [],
   "source": []
  },
  {
   "cell_type": "code",
   "execution_count": null,
   "metadata": {},
   "outputs": [],
   "source": []
  },
  {
   "cell_type": "code",
   "execution_count": null,
   "metadata": {},
   "outputs": [],
   "source": []
  },
  {
   "cell_type": "code",
   "execution_count": null,
   "metadata": {},
   "outputs": [],
   "source": []
  },
  {
   "cell_type": "code",
   "execution_count": null,
   "metadata": {},
   "outputs": [],
   "source": []
  },
  {
   "cell_type": "code",
   "execution_count": null,
   "metadata": {},
   "outputs": [],
   "source": []
  },
  {
   "cell_type": "code",
   "execution_count": null,
   "metadata": {},
   "outputs": [],
   "source": []
  },
  {
   "cell_type": "code",
   "execution_count": null,
   "metadata": {},
   "outputs": [],
   "source": [
    "#  Currently working [done]"
   ]
  },
  {
   "cell_type": "code",
   "execution_count": 1,
   "metadata": {},
   "outputs": [],
   "source": [
    " class Nodes(object):\n",
    "    \n",
    "#     orderOfNodes = []\n",
    "    def __init__(self, treeDict =None):\n",
    "        \n",
    "        if(treeDict is None):\n",
    "            self.treeDict = {}\n",
    "        else:\n",
    "            self.treeDict = treeDict\n",
    "            \n",
    "    def showNodes(self):\n",
    "        return list(self.treeDict.keys())\n",
    "    \n",
    "    #implemented dfs for shortest path\n",
    "    def solnPath(self, node, goalNode, path=None):\n",
    "        if path == None:\n",
    "            path = []\n",
    "        treeS = self.treeDict\n",
    "        path = path + [node]\n",
    "        \n",
    "        if node == goalNode:\n",
    "            return True\n",
    "        if node not in treeS:\n",
    "            return False\n",
    "        for val in treeS[node]:\n",
    "            if val not in path:\n",
    "                extended_path = self.solnPath(val, goalNode, path)\n",
    "                if extended_path: \n",
    "                    return extended_path\n",
    "        return None\n",
    "        \n",
    "    def findPath(self, startNode, goalNode, queue, orderOfPath=None, path=None, soluPathList = None,cost = 0):\n",
    "        if path == None:\n",
    "            path = []\n",
    "        if orderOfPath == None:\n",
    "            orderOfPath = []\n",
    "        if soluPathList == None:\n",
    "            soluPathList = []\n",
    "        tree = self.treeDict\n",
    "        if startNode not in tree:\n",
    "            return None\n",
    "#         print(queue)\n",
    "        temp = queue.pop(0)\n",
    "        if(self.solnPath(temp,goalNode)):\n",
    "            cost+=1\n",
    "#             print(\"Ho Ho\") #flag checking\n",
    "            soluPathList.append(temp)\n",
    "        orderOfPath.append(temp)\n",
    "        queue = queue + tree[temp]\n",
    "        if startNode==goalNode:\n",
    "            return \"Reached\", orderOfPath, soluPathList, cost-1\n",
    "        print(queue)\n",
    "        for val in queue:\n",
    "            return self.findPath(val, goalNode, queue, orderOfPath, path, soluPathList, cost)\n",
    "        "
   ]
  },
  {
   "cell_type": "code",
   "execution_count": 2,
   "metadata": {},
   "outputs": [
    {
     "name": "stdout",
     "output_type": "stream",
     "text": [
      "Enter no of nodes15\n",
      "Enter node -> a\n",
      "Enter its child nodec d\n",
      "Enter node -> c\n",
      "Enter its child nodeh i\n",
      "Enter node -> d\n",
      "Enter its child nodej k\n",
      "Enter node -> h\n",
      "Enter its child nodep q\n",
      "Enter node -> i\n",
      "Enter its child node\n",
      "Enter node -> j\n",
      "Enter its child noder s\n",
      "Enter node -> k\n",
      "Enter its child node\n",
      "Enter node -> p\n",
      "Enter its child nodev w\n",
      "Enter node -> q\n",
      "Enter its child node\n",
      "Enter node -> r\n",
      "Enter its child node\n",
      "Enter node -> s\n",
      "Enter its child nodex y\n",
      "Enter node -> v\n",
      "Enter its child node\n",
      "Enter node -> w\n",
      "Enter its child node\n",
      "Enter node -> x\n",
      "Enter its child node\n",
      "Enter node -> y\n",
      "Enter its child node\n",
      "a -> ['c', 'd']\n",
      "c -> ['h', 'i']\n",
      "d -> ['j', 'k']\n",
      "h -> ['p', 'q']\n",
      "i -> []\n",
      "j -> ['r', 's']\n",
      "k -> []\n",
      "p -> ['v', 'w']\n",
      "q -> []\n",
      "r -> []\n",
      "s -> ['x', 'y']\n",
      "v -> []\n",
      "w -> []\n",
      "x -> []\n",
      "y -> []\n"
     ]
    }
   ],
   "source": [
    "n = int(input(\"Enter no of nodes\"))\n",
    "\n",
    "g={}\n",
    "for i in range(n):\n",
    "    sNode = input(\"Enter node -> \")\n",
    "    cNodes = input(\"Enter its child node\").split()\n",
    "    g[sNode] = cNodes\n",
    "    \n",
    "\n",
    "    \n",
    "for key,val in g.items():\n",
    "    print(f'{key} -> {val}')\n",
    "# print(g)"
   ]
  },
  {
   "cell_type": "code",
   "execution_count": 3,
   "metadata": {},
   "outputs": [
    {
     "data": {
      "text/plain": [
       "['a', 'c', 'd', 'h', 'i', 'j', 'k', 'p', 'q', 'r', 's', 'v', 'w', 'x', 'y']"
      ]
     },
     "execution_count": 3,
     "metadata": {},
     "output_type": "execute_result"
    }
   ],
   "source": [
    "n = Nodes(g)\n",
    "n.showNodes() # displays all nodes.."
   ]
  },
  {
   "cell_type": "code",
   "execution_count": 5,
   "metadata": {},
   "outputs": [
    {
     "name": "stdout",
     "output_type": "stream",
     "text": [
      "Enter start node a\n",
      "Enter goal node p\n",
      "['a']\n",
      "['c', 'd']\n",
      "['d', 'h', 'i']\n",
      "['h', 'i', 'j', 'k']\n",
      "['i', 'j', 'k', 'p', 'q']\n",
      "['j', 'k', 'p', 'q']\n",
      "['k', 'p', 'q', 'r', 's']\n",
      "['p', 'q', 'r', 's']\n",
      "Reached\n",
      "Order of Nodes ->  ['a', 'c', 'd', 'h', 'i', 'j', 'k', 'p']\n",
      "Solution Path ->  ['a', 'c', 'h', 'p']\n",
      "Cost ->  3\n"
     ]
    }
   ],
   "source": [
    "startNode = input(\"Enter start node \")\n",
    "goalNode = input(\"Enter goal node \")\n",
    "queue = [startNode]\n",
    "print(queue)\n",
    "\n",
    "\n",
    "checker, ordor, solPath, cost = n.findPath(startNode,goalNode,queue) #displays\n",
    "print(checker)\n",
    "# solnPaa = n.solnPath(startNode, goalNode)\n",
    "print(\"Order of Nodes -> \",ordor)\n",
    "print(\"Solution Path -> \",solPath)\n",
    "print(\"Cost -> \",cost)"
   ]
  },
  {
   "cell_type": "code",
   "execution_count": null,
   "metadata": {},
   "outputs": [],
   "source": []
  },
  {
   "cell_type": "code",
   "execution_count": null,
   "metadata": {},
   "outputs": [],
   "source": []
  },
  {
   "cell_type": "code",
   "execution_count": null,
   "metadata": {},
   "outputs": [],
   "source": []
  },
  {
   "cell_type": "code",
   "execution_count": null,
   "metadata": {},
   "outputs": [],
   "source": []
  },
  {
   "cell_type": "markdown",
   "metadata": {},
   "source": [
    "# UCS DONE"
   ]
  },
  {
   "cell_type": "code",
   "execution_count": 37,
   "metadata": {},
   "outputs": [],
   "source": [
    "# working for tree..."
   ]
  },
  {
   "cell_type": "code",
   "execution_count": 1,
   "metadata": {},
   "outputs": [],
   "source": [
    "# from queue import PriorityQueue\n",
    "\n",
    "class Nodes(object):\n",
    "    def __init__(self, treeDict =None):\n",
    "        \n",
    "        if(treeDict is None):\n",
    "            self.treeDict = {}\n",
    "        else:\n",
    "            self.treeDict = treeDict\n",
    "            \n",
    "    def showNodes(self):\n",
    "        return list(self.treeDict.keys())\n",
    "    \n",
    "    #TO BE TESTED\n",
    "    def solnPath(self, node, goalNode, path=None):\n",
    "        if path == None:\n",
    "            path = []\n",
    "        treeS = self.treeDict\n",
    "        path = path + [node]\n",
    "        \n",
    "        if node == goalNode:\n",
    "            return True\n",
    "        if node not in treeS:\n",
    "            return False\n",
    "        for val in treeS[node]:\n",
    "            if val[0] not in path:\n",
    "                extended_path = self.solnPath(val[0], goalNode, path)\n",
    "                if extended_path: \n",
    "                    return extended_path\n",
    "        return None\n",
    "    \n",
    "        \n",
    "    def findPath(self, startNode, goalNode, queue=None, orderOfPath=None,soluPathList=None,cost=0):\n",
    "        if(queue==None):\n",
    "            queue = [[startNode,0]]\n",
    "        if(orderOfPath==None):\n",
    "            orderOfPath = []\n",
    "        if(soluPathList==None):\n",
    "            soluPathList=[]\n",
    "        tree = self.treeDict.copy()\n",
    "\n",
    "        while(len(queue)!=0):\n",
    "            queue.sort(key = lambda x:x[1])\n",
    "            print(queue)\n",
    "            temp = queue.pop(0)\n",
    "            orderOfPath.append(temp[0])\n",
    "            if(self.solnPath(temp[0],goalNode)):\n",
    "                soluPathList.append(temp[0])\n",
    "            cost = temp[1]\n",
    "            if(temp[0]==goalNode):\n",
    "                return \"Reached\",orderOfPath,soluPathList,cost\n",
    "            tempTree = tree[temp[0]]\n",
    "            ahem = tempTree.copy()\n",
    "            ok = []\n",
    "            for values in ahem:\n",
    "                ok.append([values[0],values[1]+temp[1]])\n",
    "            queue = queue + ok\n",
    "\n",
    "        return self.findPath(startNode, goalNode, queue, orderOfPath,soluPathList,cost)\n",
    "    \n",
    "    "
   ]
  },
  {
   "cell_type": "code",
   "execution_count": 2,
   "metadata": {},
   "outputs": [
    {
     "name": "stdout",
     "output_type": "stream",
     "text": [
      "Enter no of nodes7\n",
      "Enter node -> s\n",
      "Enter its child node and its cost -> a 1 b 5 c 8\n",
      "Enter node -> a\n",
      "Enter its child node and its cost -> d 3 e 7 g 9\n",
      "Enter node -> b\n",
      "Enter its child node and its cost -> g 4\n",
      "Enter node -> c\n",
      "Enter its child node and its cost -> g 5\n",
      "Enter node -> d\n",
      "Enter its child node and its cost -> \n",
      "Enter node -> e\n",
      "Enter its child node and its cost -> \n",
      "Enter node -> g\n",
      "Enter its child node and its cost -> \n",
      "s -> [['a', 1], ['b', 5], ['c', 8]]\n",
      "a -> [['d', 3], ['e', 7], ['g', 9]]\n",
      "b -> [['g', 4]]\n",
      "c -> [['g', 5]]\n",
      "d -> []\n",
      "e -> []\n",
      "g -> []\n"
     ]
    }
   ],
   "source": [
    "n = int(input(\"Enter no of nodes\"))\n",
    "\n",
    "g={}\n",
    "\n",
    "for i in range(n):\n",
    "    sNode = input(\"Enter node -> \")\n",
    "    cNodes = input(\"Enter its child node and its cost -> \").split()\n",
    "    temp=[]\n",
    "    for i in range(0,len(cNodes),2):\n",
    "        temp.append([cNodes[i],int(cNodes[i+1])])\n",
    "    g[sNode] = temp    \n",
    "for key,val in g.items():\n",
    "    print(f'{key} -> {val}')\n",
    "# print(g)\n",
    "\n",
    "# g = {'s':[['a',6],['b',5],['c',10]],\n",
    "#      'a':[['e',6]],\n",
    "#      'b':[['e',6],['d',7]],\n",
    "#      'c':[['d',6]],\n",
    "#      'e':[['f',4]],\n",
    "#      'd':[['f',6]],\n",
    "#      'f':[['g',3]],\n",
    "#      'g':[[]]}\n",
    "\n",
    "\n",
    "# g = {'s':[['a',1],['g',12]],\n",
    "#      'a':[['b',3],['c',1]],\n",
    "#      'b':[['d',3]],\n",
    "#      'c':[['d',1],['g',2]],\n",
    "#      'd':[['g',3]],\n",
    "#      'g':[[]]}\n"
   ]
  },
  {
   "cell_type": "code",
   "execution_count": 3,
   "metadata": {},
   "outputs": [
    {
     "data": {
      "text/plain": [
       "['s', 'a', 'b', 'c', 'd', 'e', 'g']"
      ]
     },
     "execution_count": 3,
     "metadata": {},
     "output_type": "execute_result"
    }
   ],
   "source": [
    "n = Nodes(g)\n",
    "n.showNodes() # displays all nodes.."
   ]
  },
  {
   "cell_type": "code",
   "execution_count": 4,
   "metadata": {},
   "outputs": [
    {
     "name": "stdout",
     "output_type": "stream",
     "text": [
      "Enter start node s\n",
      "Enter goal node g\n",
      "[['s', 0]]\n",
      "[['a', 1], ['b', 5], ['c', 8]]\n",
      "[['d', 4], ['b', 5], ['c', 8], ['e', 8], ['g', 10]]\n",
      "[['b', 5], ['c', 8], ['e', 8], ['g', 10]]\n",
      "[['c', 8], ['e', 8], ['g', 9], ['g', 10]]\n",
      "[['e', 8], ['g', 9], ['g', 10], ['g', 13]]\n",
      "[['g', 9], ['g', 10], ['g', 13]]\n",
      "Reached\n",
      "Order of Nodes ->  ['s', 'a', 'd', 'b', 'c', 'e', 'g']\n",
      "Solution Path ->  ['s', 'a', 'b', 'c', 'g']\n",
      "Cost ->  9\n"
     ]
    }
   ],
   "source": [
    "startNode = input(\"Enter start node \")\n",
    "goalNode = input(\"Enter goal node \")\n",
    "# print([[startNode,0]])\n",
    "# que = PriorityQueue()\n",
    "# que.put((0,startNode))\n",
    "# print(que)\n",
    "checker,ordor,solPath,cost = n.findPath(startNode,goalNode) #displays\n",
    "print(checker)\n",
    "# solnPaa = n.solnPath(startNode, goalNode)\n",
    "print(\"Order of Nodes -> \",ordor)\n",
    "print(\"Solution Path -> \",solPath)\n",
    "print(\"Cost -> \",cost)"
   ]
  },
  {
   "cell_type": "code",
   "execution_count": null,
   "metadata": {},
   "outputs": [],
   "source": []
  },
  {
   "cell_type": "code",
   "execution_count": null,
   "metadata": {},
   "outputs": [],
   "source": []
  },
  {
   "cell_type": "code",
   "execution_count": null,
   "metadata": {},
   "outputs": [],
   "source": []
  },
  {
   "cell_type": "code",
   "execution_count": null,
   "metadata": {},
   "outputs": [],
   "source": []
  },
  {
   "cell_type": "code",
   "execution_count": null,
   "metadata": {},
   "outputs": [],
   "source": []
  },
  {
   "cell_type": "code",
   "execution_count": null,
   "metadata": {},
   "outputs": [],
   "source": []
  },
  {
   "cell_type": "markdown",
   "metadata": {},
   "source": [
    "# UCS garage"
   ]
  },
  {
   "cell_type": "code",
   "execution_count": null,
   "metadata": {},
   "outputs": [],
   "source": [
    "def findPath(self, startNode, goalNode, queue=None, orderOfPath=None,soluPathList=None,cost=0):\n",
    "        if(queue==None):\n",
    "            queue = [[startNode,0]]\n",
    "        if(orderOfPath==None):\n",
    "            orderOfPath = []\n",
    "        if(soluPathList==None):\n",
    "            soluPathList=[]\n",
    "        tree = self.treeDict\n",
    "        if(startNode==goalNode):\n",
    "            return \"Reached\",orderOfPath,soluPathList,cost\n",
    "        print(queue)\n",
    "        temp = queue.pop(0)\n",
    "#         startNode = temp[0]\n",
    "        if(self.solnPath(temp[0],goalNode)):\n",
    "#             cost+=1\n",
    "#             print(\"Binod\") #flag checking\n",
    "            soluPathList.append(temp[0])\n",
    "        orderOfPath.append(temp[0])\n",
    "        for values in tree[temp[0]]:\n",
    "            values[1]=values[1]+temp[1]\n",
    "        queue = queue + tree[temp[0]]\n",
    "        queue.sort(key = lambda x:x[1])\n",
    "        startNode = queue[0][0]\n",
    "        cost = queue[0][1]\n",
    "        return self.findPath(startNode, goalNode, queue, orderOfPath,soluPathList,cost)\n"
   ]
  },
  {
   "cell_type": "code",
   "execution_count": 21,
   "metadata": {},
   "outputs": [],
   "source": []
  },
  {
   "cell_type": "code",
   "execution_count": null,
   "metadata": {},
   "outputs": [],
   "source": []
  },
  {
   "cell_type": "code",
   "execution_count": null,
   "metadata": {},
   "outputs": [],
   "source": []
  },
  {
   "cell_type": "code",
   "execution_count": null,
   "metadata": {},
   "outputs": [],
   "source": []
  },
  {
   "cell_type": "markdown",
   "metadata": {},
   "source": [
    "# GREEDY BFS"
   ]
  },
  {
   "cell_type": "code",
   "execution_count": null,
   "metadata": {},
   "outputs": [],
   "source": []
  },
  {
   "cell_type": "code",
   "execution_count": 4,
   "metadata": {},
   "outputs": [],
   "source": []
  },
  {
   "cell_type": "code",
   "execution_count": null,
   "metadata": {},
   "outputs": [],
   "source": []
  },
  {
   "cell_type": "code",
   "execution_count": null,
   "metadata": {},
   "outputs": [],
   "source": []
  },
  {
   "cell_type": "code",
   "execution_count": null,
   "metadata": {},
   "outputs": [],
   "source": []
  },
  {
   "cell_type": "code",
   "execution_count": null,
   "metadata": {},
   "outputs": [],
   "source": []
  },
  {
   "cell_type": "code",
   "execution_count": null,
   "metadata": {},
   "outputs": [],
   "source": []
  },
  {
   "cell_type": "code",
   "execution_count": null,
   "metadata": {},
   "outputs": [],
   "source": []
  },
  {
   "cell_type": "code",
   "execution_count": 29,
   "metadata": {},
   "outputs": [
    {
     "name": "stdout",
     "output_type": "stream",
     "text": [
      "Enter no of nodes8\n",
      "Enter node -> s\n",
      "Enter the heuristic value -> 17\n",
      "Enter its child node, heuristic value and its cost from parent node -> a 6 b 5 c 10\n",
      "Enter node -> a\n",
      "Enter the heuristic value -> 10\n",
      "Enter its child node, heuristic value and its cost from parent node -> e 6\n",
      "Enter node -> b\n",
      "Enter the heuristic value -> 13\n",
      "Enter its child node, heuristic value and its cost from parent node -> e 6 d 7\n",
      "Enter node -> c\n",
      "Enter the heuristic value -> 4\n",
      "Enter its child node, heuristic value and its cost from parent node -> d 6\n",
      "Enter node -> e\n",
      "Enter the heuristic value -> 4\n",
      "Enter its child node, heuristic value and its cost from parent node -> f 4\n",
      "Enter node -> d\n",
      "Enter the heuristic value -> 2\n",
      "Enter its child node, heuristic value and its cost from parent node -> f 6\n",
      "Enter node -> f\n",
      "Enter the heuristic value -> 1\n",
      "Enter its child node, heuristic value and its cost from parent node -> g 3\n",
      "Enter node -> g\n",
      "Enter the heuristic value -> 0\n",
      "Enter its child node, heuristic value and its cost from parent node -> \n",
      "s -> [['a', 6], ['b', 5], ['c', 10]]\n",
      "a -> [['e', 6]]\n",
      "b -> [['e', 6], ['d', 7]]\n",
      "c -> [['d', 6]]\n",
      "e -> [['f', 4]]\n",
      "d -> [['f', 6]]\n",
      "f -> [['g', 3]]\n",
      "g -> []\n",
      "Heuristic Table\n",
      "s -> 17\n",
      "a -> 10\n",
      "b -> 13\n",
      "c -> 4\n",
      "e -> 4\n",
      "d -> 2\n",
      "f -> 1\n",
      "g -> 0\n"
     ]
    }
   ],
   "source": [
    "n = int(input(\"Enter no of nodes\"))\n",
    "\n",
    "g={}\n",
    "# graph = Graph()\n",
    "hue = {}\n",
    "for i in range(n):\n",
    "    sNode = input(\"Enter node -> \")\n",
    "    hueVal = int(input(\"Enter the heuristic value -> \"))\n",
    "    cNodes = input(\"Enter its child node, heuristic value and its cost from parent node -> \").split()\n",
    "    temp=[]\n",
    "    for i in range(0,len(cNodes),2):\n",
    "        temp.append([cNodes[i],int(cNodes[i+1])])\n",
    "    g[sNode] = temp\n",
    "    hue[sNode] = hueVal\n",
    "for key,val in g.items():\n",
    "    print(f'{key} -> {val}')\n",
    "    \n",
    "print(\"Heuristic Table\")\n",
    "for key,val in hue.items():\n",
    "    print(f'{key} -> {val}')\n",
    "    \n",
    "    \n",
    "# g = {'s':[['a',6],['b',5],['c',10]],\n",
    "#      'a':[['e',6]],\n",
    "#      'b':[['e',6],['d',7]],\n",
    "#      'c':[['d',6]],\n",
    "#      'e':[['f',4]],\n",
    "#      'd':[['f',6]],\n",
    "#      'f':[['g',3]],\n",
    "#      'g':[[]]}\n",
    "# hue = {\n",
    "#     's':17,\n",
    "#      'a':10,\n",
    "#      'b':13,\n",
    "#      'c':4,\n",
    "#      'e':4,\n",
    "#      'd':2,\n",
    "#      'f':1,\n",
    "#      'g':0\n",
    "# }\n",
    "    \n",
    "    \n",
    " "
   ]
  },
  {
   "cell_type": "code",
   "execution_count": null,
   "metadata": {},
   "outputs": [],
   "source": [
    "\n"
   ]
  },
  {
   "cell_type": "code",
   "execution_count": 30,
   "metadata": {},
   "outputs": [],
   "source": [
    "class Nodes(object):\n",
    "    def __init__(self, treeDict =None):\n",
    "        \n",
    "        if(treeDict is None):\n",
    "            self.treeDict = {}\n",
    "        else:\n",
    "            self.treeDict = treeDict\n",
    "            \n",
    "    def showNodes(self):\n",
    "        return list(self.treeDict.keys())\n",
    "        \n",
    "    def solnPath(self, node, goalNode, path=None):\n",
    "        if path == None:\n",
    "            path = []\n",
    "        treeS = self.treeDict\n",
    "        path = path + [node]\n",
    "        \n",
    "        if node == goalNode:\n",
    "            return True\n",
    "        if node not in treeS:\n",
    "            return False\n",
    "        for val in treeS[node]:\n",
    "            if val[0] not in path:\n",
    "                extended_path = self.solnPath(val[0], goalNode, path)\n",
    "                if extended_path: \n",
    "                    return extended_path\n",
    "        return None\n",
    "    \n",
    "    def findPath(self, startNode, goalNode, hue, staque=None, path=None, solnPathList=None,cost=0):\n",
    "        trees = self.treeDict\n",
    "        if(staque==None):\n",
    "            staque=[[startNode,hue[startNode],0]]\n",
    "        if(path==None):\n",
    "            path=[]\n",
    "        if(solnPathList==None):\n",
    "            solnPathList=[]\n",
    "        print(staque)\n",
    "        if startNode not in trees:\n",
    "            return None\n",
    "        if(startNode==goalNode):\n",
    "            return \"Reached\",path+[goalNode],solnPathList+[goalNode],cost\n",
    "        temp = staque.pop(0)\n",
    "        path.append(temp[0])\n",
    "        if(self.solnPath(temp[0],goalNode)):\n",
    "            solnPathList.append(temp[0])\n",
    "        for values in trees[temp[0]]:\n",
    "            values[1]=values[1]+temp[2]\n",
    "#             print(values)\n",
    "#             print\n",
    "        for values in trees[temp[0]]:\n",
    "            staque.insert(0,[values[0],hue[values[0]],values[1]])\n",
    "        staque.sort(key = lambda x:x[1])\n",
    "        startNode = staque[0][0]\n",
    "        cost = staque[0][2]\n",
    "        return self.findPath(startNode, goalNode, hue, staque,path,solnPathList,cost)\n",
    "        \n",
    "        \n",
    "        "
   ]
  },
  {
   "cell_type": "code",
   "execution_count": null,
   "metadata": {
    "scrolled": true
   },
   "outputs": [],
   "source": []
  },
  {
   "cell_type": "code",
   "execution_count": 31,
   "metadata": {},
   "outputs": [
    {
     "data": {
      "text/plain": [
       "['s', 'a', 'b', 'c', 'e', 'd', 'f', 'g']"
      ]
     },
     "execution_count": 31,
     "metadata": {},
     "output_type": "execute_result"
    }
   ],
   "source": [
    "\n",
    "n = Nodes(g)\n",
    "n.showNodes() # displays all nodes..\n"
   ]
  },
  {
   "cell_type": "code",
   "execution_count": 32,
   "metadata": {},
   "outputs": [
    {
     "name": "stdout",
     "output_type": "stream",
     "text": [
      "Enter start node s\n",
      "Enter goal node g\n",
      "{'s': 17, 'a': 10, 'b': 13, 'c': 4, 'e': 4, 'd': 2, 'f': 1, 'g': 0}\n",
      "[['s', 17, 0]]\n",
      "[['c', 4, 10], ['a', 10, 6], ['b', 13, 5]]\n",
      "[['d', 2, 16], ['a', 10, 6], ['b', 13, 5]]\n",
      "[['f', 1, 22], ['a', 10, 6], ['b', 13, 5]]\n",
      "[['g', 0, 25], ['a', 10, 6], ['b', 13, 5]]\n",
      "Reached\n",
      "Order of Nodes ->  ['s', 'c', 'd', 'f', 'g']\n",
      "Solution Path ->  ['s', 'c', 'd', 'f', 'g']\n",
      "Cost ->  25\n"
     ]
    }
   ],
   "source": [
    "startNode = input(\"Enter start node \")\n",
    "goalNode = input(\"Enter goal node \")\n",
    "print(hue)\n",
    "checker,Path,solPathListy,costy = n.findPath(startNode,goalNode,hue) #displays\n",
    "print(checker)\n",
    "# print(staque)\n",
    "print(\"Order of Nodes -> \",Path)\n",
    "print(\"Solution Path -> \",solPathListy)\n",
    "print(\"Cost -> \",costy)"
   ]
  },
  {
   "cell_type": "code",
   "execution_count": null,
   "metadata": {},
   "outputs": [],
   "source": []
  },
  {
   "cell_type": "markdown",
   "metadata": {},
   "source": [
    "# A *  DONE"
   ]
  },
  {
   "cell_type": "code",
   "execution_count": 33,
   "metadata": {},
   "outputs": [],
   "source": [
    "# n = int(input(\"Enter no of nodes\"))\n",
    "\n",
    "g={}\n",
    "# graph = Graph()\n",
    "hue = {}\n",
    "# for i in range(n):\n",
    "#     sNode = input(\"Enter node -> \")\n",
    "#     hueVal = int(input(\"Enter the heuristic value -> \"))\n",
    "#     cNodes = input(\"Enter its child node, heuristic value and its cost from parent node -> \").split()\n",
    "#     temp=[]\n",
    "#     for i in range(0,len(cNodes),2):\n",
    "#         temp.append([cNodes[i],int(cNodes[i+1])])\n",
    "#     g[sNode] = temp\n",
    "#     hue[sNode] = hueVal\n",
    "# for key,val in g.items():\n",
    "#     print(f'{key} -> {val}')\n",
    "    \n",
    "# print(\"Heuristic Table\")\n",
    "# for key,val in hue.items():\n",
    "#     print(f'{key} -> {val}')\n",
    "    \n",
    "    \n",
    "# g = {'s':[['a',6],['b',5],['c',10]],\n",
    "#      'a':[['e',6]],\n",
    "#      'b':[['e',6],['d',7]],\n",
    "#      'c':[['d',6]],\n",
    "#      'e':[['f',4]],\n",
    "#      'd':[['f',6]],\n",
    "#      'f':[['g',3]],\n",
    "#      'g':[[]]}\n",
    "# hue = {\n",
    "#     's':17,\n",
    "#      'a':10,\n",
    "#      'b':13,\n",
    "#      'c':4,\n",
    "#      'e':4,\n",
    "#      'd':2,\n",
    "#      'f':1,\n",
    "#      'g':0\n",
    "# }\n",
    "\n",
    "\n",
    "   \n",
    "g = {'s':[['a',1],['g',10]],\n",
    "     'a':[['b',2],['c',1]],\n",
    "     'b':[['d',5]],\n",
    "     'c':[['d',3],['g',4]],\n",
    "     'd':[['g',2]],\n",
    "     'g':[[]]}\n",
    "\n",
    "hue = {\n",
    "    's':5,\n",
    "     'a':3,\n",
    "     'b':4,\n",
    "     'c':2,\n",
    "     'd':6,\n",
    "     'g':0\n",
    "}\n",
    "\n",
    "\n",
    "\n",
    "\n",
    "# g = {'s':[['a',5],['b',1]],\n",
    "#      'a':[['g',1]],\n",
    "#      'b':[['c',2]],\n",
    "#      'c':[['g',2]],\n",
    "#      'g':[[]]}\n",
    "\n",
    "# hue = {\n",
    "#     's':5,\n",
    "#      'a':1,\n",
    "#      'b':4,\n",
    "#      'c':2,\n",
    "#      'g':0\n",
    "# }"
   ]
  },
  {
   "cell_type": "code",
   "execution_count": 34,
   "metadata": {},
   "outputs": [],
   "source": [
    "class Nodes(object):\n",
    "    def __init__(self, treeDict=None):\n",
    "        if(treeDict is None):\n",
    "            self.treeDict = {}\n",
    "        else:\n",
    "            self.treeDict = treeDict\n",
    "            \n",
    "    def showNodes(self):\n",
    "        return list(self.treeDict.keys())\n",
    "    \n",
    "    def findPath(self, startNode, goalNode, hue, queue=None, path=None,cost=0):\n",
    "        trees = self.treeDict\n",
    "        if(queue==None):\n",
    "            queue = [[startNode,0]]\n",
    "        if(path==None):\n",
    "            path=[]\n",
    "        if startNode not in trees:\n",
    "            return None\n",
    "        \n",
    "        while(len(queue)!=0):\n",
    "            queue.sort(key = lambda x:x[1])\n",
    "            print(queue)\n",
    "            temp = queue.pop(0)\n",
    "            path.append(temp[0])\n",
    "            if(temp[1]!=0):\n",
    "                cost = cost + temp[1] - hue[temp[0]]\n",
    "            if(temp[0]==goalNode):\n",
    "                return \"Reached\",cost,path\n",
    "            tempTree = trees[temp[0]]\n",
    "            ahem = tempTree.copy()\n",
    "            ok = []\n",
    "            for values in ahem:\n",
    "                ok.append([values[0],values[1]+hue[values[0]]])\n",
    "            queue = queue + ok\n",
    "        return self.findPath(startNode, goalNode, hue, queue, path,cost)\n",
    "        \n",
    "        \n"
   ]
  },
  {
   "cell_type": "code",
   "execution_count": 35,
   "metadata": {},
   "outputs": [
    {
     "data": {
      "text/plain": [
       "['s', 'a', 'b', 'c', 'e', 'd', 'f', 'g']"
      ]
     },
     "execution_count": 35,
     "metadata": {},
     "output_type": "execute_result"
    }
   ],
   "source": [
    "\n",
    "n = Nodes(g)\n",
    "n.showNodes() # displays all nodes..\n"
   ]
  },
  {
   "cell_type": "code",
   "execution_count": 36,
   "metadata": {},
   "outputs": [
    {
     "name": "stdout",
     "output_type": "stream",
     "text": [
      "Enter start node s\n",
      "Enter goal node g\n",
      "{'s': 17, 'a': 10, 'b': 13, 'c': 4, 'e': 4, 'd': 2, 'f': 1, 'g': 0}\n",
      "[['s', 0]]\n",
      "[['c', 14], ['a', 16], ['b', 18]]\n",
      "[['d', 8], ['a', 16], ['b', 18]]\n",
      "[['f', 7], ['a', 16], ['b', 18]]\n",
      "[['g', 3], ['a', 16], ['b', 18]]\n",
      "Reached\n",
      "Order of Nodes ->  ['s', 'c', 'd', 'f', 'g']\n",
      "Solution Path ->  ['s', 'c', 'd', 'f', 'g']\n",
      "Cost ->  25\n"
     ]
    }
   ],
   "source": [
    "startNode = input(\"Enter start node \")\n",
    "goalNode = input(\"Enter goal node \")\n",
    "print(hue)\n",
    "checker,costy,Path = n.findPath(startNode,goalNode,hue) #displays\n",
    "print(checker)\n",
    "# print(staque)\n",
    "print(\"Order of Nodes -> \",Path)\n",
    "print(\"Solution Path -> \",Path)\n",
    "print(\"Cost -> \",costy)"
   ]
  },
  {
   "cell_type": "code",
   "execution_count": null,
   "metadata": {},
   "outputs": [],
   "source": []
  },
  {
   "cell_type": "markdown",
   "metadata": {},
   "source": [
    "# Garage"
   ]
  },
  {
   "cell_type": "code",
   "execution_count": null,
   "metadata": {},
   "outputs": [],
   "source": [
    "def findPath(self, startNode, goalNode, hue, staque=None, path=None, solnPathList=None,cost=0):\n",
    "        trees = self.treeDict\n",
    "        if(staque==None):\n",
    "            staque=[[startNode,hue[startNode],0]]\n",
    "        if(path==None):\n",
    "            path=[]\n",
    "        if(solnPathList==None):\n",
    "            solnPathList=[]\n",
    "        print(staque)\n",
    "        if startNode not in trees:\n",
    "            return None\n",
    "        if(startNode==goalNode):\n",
    "            return \"Reached\",path+[goalNode],solnPathList+[goalNode],cost\n",
    "        temp = staque.pop(0)\n",
    "        path.append(temp[0])\n",
    "        if(self.solnPath(temp[0],goalNode)):\n",
    "            solnPathList.append(temp[0])\n",
    "        for values in trees[temp[0]]:\n",
    "            values[1]=values[1]+temp[2]\n",
    "#             print(values)\n",
    "#             print\n",
    "        for values in trees[temp[0]]:\n",
    "            staque.insert(0,[values[0],hue[values[0]],values[1]])\n",
    "        staque.sort(key = lambda x:x[1])\n",
    "        startNode = staque[0][0]\n",
    "        cost = staque[0][2]\n",
    "        return self.findPath(startNode, goalNode, hue, staque,path,solnPathList,cost)"
   ]
  },
  {
   "cell_type": "code",
   "execution_count": null,
   "metadata": {},
   "outputs": [],
   "source": []
  },
  {
   "cell_type": "code",
   "execution_count": null,
   "metadata": {},
   "outputs": [],
   "source": [
    "def findPath(self, startNode, goalNode, queue=None, orderOfPath=None,soluPathList=None,cost=0):\n",
    "        if(queue==None):\n",
    "            queue = [[startNode,0]]\n",
    "        if(orderOfPath==None):\n",
    "            orderOfPath = []\n",
    "        if(soluPathList==None):\n",
    "            soluPathList=[]\n",
    "        tree = self.treeDict.copy()\n",
    "\n",
    "        while(len(queue)!=0):\n",
    "            queue.sort(key = lambda x:x[1])\n",
    "            print(queue)\n",
    "            temp = queue.pop(0)\n",
    "            orderOfPath.append(temp[0])\n",
    "            if(self.solnPath(temp[0],goalNode)):\n",
    "                soluPathList.append(temp[0])\n",
    "            cost = temp[1]\n",
    "            if(temp[0]==goalNode):\n",
    "                return \"Reached\",orderOfPath,soluPathList,cost\n",
    "            tempTree = tree[temp[0]]\n",
    "            ahem = tempTree.copy()\n",
    "            ok = []\n",
    "            for values in ahem:\n",
    "                ok.append([values[0],values[1]+temp[1]])\n",
    "            queue = queue + ok\n",
    "\n",
    "        return self.findPath(startNode, goalNode, queue, orderOfPath,soluPathList,cost)"
   ]
  },
  {
   "cell_type": "code",
   "execution_count": null,
   "metadata": {},
   "outputs": [],
   "source": []
  },
  {
   "cell_type": "markdown",
   "metadata": {},
   "source": [
    "# HILL CLIMB"
   ]
  },
  {
   "cell_type": "code",
   "execution_count": 117,
   "metadata": {},
   "outputs": [],
   "source": [
    "# n = int(input(\"Enter no of nodes\"))\n",
    "\n",
    "g={}\n",
    "# graph = Graph()\n",
    "hue = {}\n",
    "# for i in range(n):\n",
    "#     sNode = input(\"Enter node -> \")\n",
    "#     hueVal = int(input(\"Enter the heuristic value -> \"))\n",
    "#     cNodes = input(\"Enter its child node, heuristic value and its cost from parent node -> \").split()\n",
    "#     temp=[]\n",
    "#     for i in range(0,len(cNodes),2):\n",
    "#         temp.append([cNodes[i],int(cNodes[i+1])])\n",
    "#     g[sNode] = temp\n",
    "#     hue[sNode] = hueVal\n",
    "# for key,val in g.items():\n",
    "#     print(f'{key} -> {val}')\n",
    "    \n",
    "# print(\"Heuristic Table\")\n",
    "# for key,val in hue.items():\n",
    "#     print(f'{key} -> {val}')\n",
    "    \n",
    "\n",
    "    \n",
    "\n",
    "# g = {'c':['b','t','o','e','p'],\n",
    "#      'b':['a','r','s'],\n",
    "#      't':[],\n",
    "#      'o':['i','n'],\n",
    "#      'e':['g'],\n",
    "#      'p':['l','f','d'],\n",
    "#      'a':[],\n",
    "#      'r':[],\n",
    "#      's':[],\n",
    "#      'i':['z'],\n",
    "#      'n':[],\n",
    "#      'g':[],\n",
    "#      'l':[],\n",
    "#      'd':[],\n",
    "#      'f':[],\n",
    "#      'z':[]}\n",
    "\n",
    "# hue = {'c':21,'b':14,'t':5,'o':7,'e':13,'p':15,'a':17,'r':20,'s':50,'i':4,'n':44,'g':51,'l':0,'d':10,'f':8,'z':0}\n",
    "\n",
    "\n",
    "\n",
    "\n",
    "g = {'a':['b','c','u'],'b':['e','g'],'c':['g','i','j'],'u':['k','y'],'e':['g','m'],'g':['m'],'i':['m'],'j':['k'],'k':['j'],'y':['m'],'m':[]}\n",
    "\n",
    "\n",
    "hue = {'a':7,'b':5,'c':3,'u':4,'e':2,'g':3,'i':6,'j':2,'k':1,'y':2,'m':0}\n",
    "\n"
   ]
  },
  {
   "cell_type": "code",
   "execution_count": 118,
   "metadata": {},
   "outputs": [],
   "source": [
    "class Nodes(object):\n",
    "    def __init__(self, treeDict=None):\n",
    "        if(treeDict is None):\n",
    "            self.treeDict = {}\n",
    "        else:\n",
    "            self.treeDict = treeDict\n",
    "            \n",
    "    def showNodes(self):\n",
    "        return list(self.treeDict.keys())\n",
    "    \n",
    "    def findPath(self, startNode, goalNode, hue, queue=None, path=None,cost=0):\n",
    "        trees = self.treeDict\n",
    "        if(queue==None):\n",
    "            queue = [[startNode,hue[startNode]]]\n",
    "            cost=hue[startNode]\n",
    "        if(path==None):\n",
    "            path=[]\n",
    "        if startNode not in trees:\n",
    "            return None\n",
    "        \n",
    "        while(len(queue)!=0):\n",
    "            queue.sort(key = lambda x:x[1])\n",
    "            print(queue)\n",
    "            temp = queue.pop(0)\n",
    "            path.append(temp[0])\n",
    "#             if(temp[1]!=0):\n",
    "#                 cost = cost + temp[1]\n",
    "            if(temp[1]==0):\n",
    "                return \"Global Optima Reached\"\n",
    "            \n",
    "            if(temp[0]==goalNode and temp[1]<=cost):\n",
    "                return \"Reached\",path\n",
    "            \n",
    "            \n",
    "            tempTree = trees[temp[0]]\n",
    "#             print(tempTree)\n",
    "                \n",
    "    \n",
    "            if(len(tempTree)==0):\n",
    "                return \"Local Optima Reached\",path\n",
    "            if(temp[1]>cost):\n",
    "                return \"Dead End: Optima Reached\",path\n",
    "            \n",
    "            cost = temp[1]\n",
    "            ahem = tempTree.copy()\n",
    "            ok = []\n",
    "            for values in ahem:\n",
    "                ok.append([values,hue[values]])\n",
    "            queue = ok.copy()\n",
    "        return self.findPath(startNode, goalNode, hue, queue, path,cost)\n",
    "        \n",
    "        \n"
   ]
  },
  {
   "cell_type": "code",
   "execution_count": 119,
   "metadata": {},
   "outputs": [
    {
     "data": {
      "text/plain": [
       "['a', 'b', 'c', 'u', 'e', 'g', 'i', 'j', 'k', 'y', 'm']"
      ]
     },
     "execution_count": 119,
     "metadata": {},
     "output_type": "execute_result"
    }
   ],
   "source": [
    "\n",
    "n = Nodes(g)\n",
    "n.showNodes() # displays all nodes..\n"
   ]
  },
  {
   "cell_type": "code",
   "execution_count": 120,
   "metadata": {},
   "outputs": [
    {
     "name": "stdout",
     "output_type": "stream",
     "text": [
      "Enter start node a\n",
      "Enter goal node m\n",
      "{'a': 7, 'b': 5, 'c': 3, 'u': 4, 'e': 2, 'g': 3, 'i': 6, 'j': 2, 'k': 1, 'y': 2, 'm': 0}\n",
      "[['a', 7]]\n",
      "[['c', 3], ['u', 4], ['b', 5]]\n",
      "[['j', 2], ['g', 3], ['i', 6]]\n",
      "[['k', 1]]\n",
      "[['j', 2]]\n",
      "Dead End: Optima Reached\n",
      "Order of Nodes ->  ['a', 'c', 'j', 'k', 'j']\n"
     ]
    }
   ],
   "source": [
    "startNode = input(\"Enter start node \")\n",
    "goalNode = input(\"Enter goal node \")\n",
    "print(hue)\n",
    "checker,Path = n.findPath(startNode,goalNode,hue) #displays\n",
    "print(checker)\n",
    "# print(staque)\n",
    "print(\"Order of Nodes -> \",Path)\n",
    "# print(\"Solution Path -> \",Path)\n",
    "# print(\"Cost -> \",costy)"
   ]
  },
  {
   "cell_type": "code",
   "execution_count": null,
   "metadata": {},
   "outputs": [],
   "source": []
  },
  {
   "cell_type": "code",
   "execution_count": null,
   "metadata": {},
   "outputs": [],
   "source": []
  },
  {
   "cell_type": "markdown",
   "metadata": {},
   "source": [
    "# GARAGE"
   ]
  },
  {
   "cell_type": "code",
   "execution_count": null,
   "metadata": {},
   "outputs": [],
   "source": [
    "# g = {'c':[['b'],['t'],['o'],['e'],['p']],\n",
    "#      'b':[['a'],['r'],['s']],\n",
    "#      't':[[]],\n",
    "#      'o':[['i'],['n']],\n",
    "#      'e':[['g']],\n",
    "#      'p':[['l'],['f'],['d']],\n",
    "#      'a':[[]],\n",
    "#      'r':[[]],\n",
    "#      's':[[]],\n",
    "#      'i':[['z']],\n",
    "#      'n':[[]],\n",
    "#      'g':[[]],\n",
    "#      'l':[[]],\n",
    "#      'd':[[]],\n",
    "#      'f':[[]],\n",
    "#      'z':[[]]\n",
    "#      }"
   ]
  },
  {
   "cell_type": "code",
   "execution_count": null,
   "metadata": {},
   "outputs": [],
   "source": [
    "while(len(queue)!=0):\n",
    "            queue.sort(key = lambda x:x[1])\n",
    "            print(queue)\n",
    "            temp = queue.pop(0)\n",
    "            path.append(temp[0])\n",
    "            if(temp[1]!=0):\n",
    "                cost = cost + temp[1] - hue[temp[0]]\n",
    "            if(temp[0]==goalNode):\n",
    "                return \"Reached\",cost,path\n",
    "            tempTree = trees[temp[0]]\n",
    "            ahem = tempTree.copy()\n",
    "            ok = []\n",
    "            for values in ahem:\n",
    "                ok.append([values[0],values[1]+hue[values[0]]])\n",
    "            queue = queue + ok\n",
    "        return self.findPath(startNode, goalNode, hue, queue, path,cost)"
   ]
  },
  {
   "cell_type": "code",
   "execution_count": null,
   "metadata": {},
   "outputs": [],
   "source": [
    "\n",
    "    def findPath(self, startNode, goalNode, hue, queue=None, path=None,cost=0):\n",
    "        trees = self.treeDict\n",
    "        if(queue==None):\n",
    "            queue = [[startNode,hue[startNode]]]\n",
    "        if(path==None):\n",
    "            path=[]\n",
    "        if startNode not in trees:\n",
    "            return None\n",
    "        \n",
    "        while(len(queue)!=0):\n",
    "            queue.sort(key = lambda x:x[1])\n",
    "            print(queue)\n",
    "            temp = queue.pop(0)\n",
    "            path.append(temp[0])\n",
    "#             if(temp[1]!=0):\n",
    "#                 cost = cost + temp[1]\n",
    "            if(temp[0]==goalNode):\n",
    "                return \"Reached\",path\n",
    "            tempTree = trees[temp[0]]\n",
    "            print(tempTree)\n",
    "#             if()\n",
    "            ahem = tempTree.copy()\n",
    "            ok = []\n",
    "            for values in ahem:\n",
    "                ok.append([values[0],hue[values[0]]])\n",
    "            queue = ok.copy()\n",
    "        return self.findPath(startNode, goalNode, hue, queue, path,cost)\n",
    "        "
   ]
  },
  {
   "cell_type": "markdown",
   "metadata": {},
   "source": [
    "# CSP"
   ]
  },
  {
   "cell_type": "code",
   "execution_count": null,
   "metadata": {},
   "outputs": [],
   "source": []
  },
  {
   "cell_type": "code",
   "execution_count": 4,
   "metadata": {},
   "outputs": [
    {
     "name": "stdout",
     "output_type": "stream",
     "text": [
      "Enter the no. of words: 2\n",
      "\n",
      "Enter word1: BENNY\n",
      "Enter word2: NEVIN\n",
      "Enter result word: RITSON\n",
      "\n",
      "The equation is:  BENNY + NEVIN = RITSON\n",
      "\n",
      "Solving the cryptarithmetic equation ...\n",
      "\n",
      "Following are the possible solutions for given cryptarithmetic equation\n",
      "\n",
      "72660 + 62836 = 135496 (mapping: {'e': 2, 'v': 8, 's': 4, 'i': 3, 'o': 9, 'y': 0, 'b': 7, 'r': 1, 'n': 6, 't': 5})\n",
      "76550 + 56435 = 132985 (mapping: {'e': 6, 'v': 4, 's': 9, 'i': 3, 'o': 8, 'y': 0, 'b': 7, 'r': 1, 'n': 5, 't': 2})\n",
      "86440 + 46534 = 132974 (mapping: {'e': 6, 'v': 5, 's': 9, 'i': 3, 'o': 7, 'y': 0, 'b': 8, 'r': 1, 'n': 4, 't': 2})\n",
      "86550 + 56745 = 143295 (mapping: {'e': 6, 'v': 7, 's': 2, 'i': 4, 'o': 9, 'y': 0, 'b': 8, 'r': 1, 'n': 5, 't': 3})\n",
      "46770 + 76827 = 123597 (mapping: {'e': 6, 'v': 8, 's': 5, 'i': 2, 'o': 9, 'y': 0, 'b': 4, 'r': 1, 'n': 7, 't': 3})\n",
      "57660 + 67326 = 124986 (mapping: {'e': 7, 'v': 3, 's': 9, 'i': 2, 'o': 8, 'y': 0, 'b': 5, 'r': 1, 'n': 6, 't': 4})\n",
      "87330 + 37623 = 124953 (mapping: {'e': 7, 'v': 6, 's': 9, 'i': 2, 'o': 5, 'y': 0, 'b': 8, 'r': 1, 'n': 3, 't': 4})\n"
     ]
    }
   ],
   "source": [
    "import itertools\n",
    "\n",
    "\n",
    "def get_value(word, substitution):\n",
    "    s = 0\n",
    "    factor = 1\n",
    "    for letter in reversed(word):\n",
    "        s += factor * substitution[letter]\n",
    "        factor *= 10\n",
    "    return s\n",
    "\n",
    "\n",
    "def cryptarithmetic(equation):\n",
    "    # split equation in left and right\n",
    "    left, right = equation.lower().replace(' ', '').split('=')\n",
    "    # split words in left part\n",
    "    left = left.split('+')\n",
    "    # create list of used letters\n",
    "    letters = set(right)\n",
    "    for word in left:\n",
    "        for letter in word:\n",
    "            letters.add(letter)\n",
    "    letters = list(letters)\n",
    "\n",
    "    digits = range(10)\n",
    "    for perm in itertools.permutations(digits, len(letters)):\n",
    "        sol = dict(zip(letters, perm))\n",
    "\n",
    "        if sum(get_value(word, sol) for word in left) == get_value(right, sol):\n",
    "            print(' + '.join(str(get_value(word, sol)) for word in left) + \" = {} (mapping: {})\".format(get_value(right, sol), sol))\n",
    "\n",
    "\n",
    "def main():\n",
    "  words=[]\n",
    "  n=int(input(\"Enter the no. of words: \"))\n",
    "  print()\n",
    "  for i in range(n):\n",
    "    word=input(\"Enter word\"+str(i+1)+\": \")\n",
    "    words.append(word)\n",
    "  \n",
    "  result_word=input(\"Enter result word: \")\n",
    "  equation=' + '.join(map(str, words))+\" = \"+result_word \n",
    "  print()\n",
    "  print(\"The equation is: \",equation)\n",
    "  print()\n",
    "  print(\"Solving the cryptarithmetic equation ...\")\n",
    "  print()\n",
    "  print(\"Following are the possible solutions for given cryptarithmetic equation\")\n",
    "  print()\n",
    "  cryptarithmetic(equation)\n",
    "\n",
    "\n",
    "if __name__ == '__main__':\n",
    "  main()\n"
   ]
  },
  {
   "cell_type": "code",
   "execution_count": null,
   "metadata": {},
   "outputs": [],
   "source": []
  },
  {
   "cell_type": "code",
   "execution_count": null,
   "metadata": {},
   "outputs": [],
   "source": []
  },
  {
   "cell_type": "code",
   "execution_count": null,
   "metadata": {},
   "outputs": [],
   "source": []
  },
  {
   "cell_type": "markdown",
   "metadata": {},
   "source": [
    "# GRAPH"
   ]
  },
  {
   "cell_type": "code",
   "execution_count": null,
   "metadata": {},
   "outputs": [],
   "source": []
  },
  {
   "cell_type": "code",
   "execution_count": 1,
   "metadata": {},
   "outputs": [
    {
     "name": "stdout",
     "output_type": "stream",
     "text": [
      "Enter the no. of colours: 4\n",
      "\n",
      "Enter colour1: red\n",
      "Enter colour2: green\n",
      "Enter colour3: blue\n",
      "Enter colour4: black\n",
      "\n",
      "The colours are:  red, green, blue, black\n",
      "\n",
      "Enter the no. of states: 7\n",
      "\n",
      "Enter state1: wa\n",
      "Enter state2: nt\n",
      "Enter state3: qs\n",
      "Enter state4: nsw\n",
      "Enter state5: sa\n",
      "Enter state6: vt\n",
      "Enter state7: tm\n",
      "\n",
      "The states are:  wa, nt, qs, nsw, sa, vt, tm\n",
      "\n",
      "Enter neighbors of wa: nt sa\n",
      "Enter neighbors of nt: wa qs sa\n",
      "Enter neighbors of qs: nt sa nsw\n",
      "Enter neighbors of nsw: qs sa vt\n",
      "Enter neighbors of sa: wa nt qs nsw vt\n",
      "Enter neighbors of vt: sa nsw\n",
      "Enter neighbors of tm: \n",
      "\n",
      "{'wa': 'red', 'nt': 'green', 'qs': 'red', 'nsw': 'green', 'sa': 'blue', 'vt': 'red', 'tm': 'red'}\n",
      "\n",
      "Minimum no. of colours used: 3\n",
      "\n",
      "Colours used: green, red, blue\n"
     ]
    }
   ],
   "source": [
    "colors = []\n",
    "states = []\n",
    "neighbors = {}\n",
    "n=int(input(\"Enter the no. of colours: \"))\n",
    "print()\n",
    "for i in range(n):\n",
    "    color=input(\"Enter colour\"+str(i+1)+\": \")\n",
    "    colors.append(color)\n",
    "\n",
    "print()\n",
    "print(\"The colours are: \",', '.join(colors))\n",
    "print()\n",
    "m=int(input(\"Enter the no. of states: \"))\n",
    "print()\n",
    "for i in range(m):\n",
    "    state=input(\"Enter state\"+str(i+1)+\": \")\n",
    "    states.append(state)\n",
    "\n",
    "print()\n",
    "print(\"The states are: \",', '.join(states))\n",
    "print()\n",
    "print\n",
    "for i in range(m):\n",
    "    neighbors[states[i]]=input(\"Enter neighbors of \"+str(states[i])+\": \").split()\n",
    "\n",
    "\n",
    "print()\n",
    "colors_of_states = {}\n",
    "\n",
    "def promising(state, color):\n",
    "    for neighbor in neighbors.get(state): \n",
    "        color_of_neighbor = colors_of_states.get(neighbor)\n",
    "        if color_of_neighbor == color:\n",
    "            return False\n",
    "\n",
    "    return True\n",
    "\n",
    "def get_color_for_state(state):\n",
    "    for color in colors:\n",
    "        if promising(state, color):\n",
    "            return color\n",
    "\n",
    "def main():\n",
    "    min_colours=[]\n",
    "    for state in states:\n",
    "        colors_of_states[state] = get_color_for_state(state)\n",
    "        min_colours.append(get_color_for_state(state))\n",
    "\n",
    "    min_colours=set(min_colours)    \n",
    "    print(colors_of_states)\n",
    "    print()\n",
    "    print(\"Minimum no. of colours used:\",len(min_colours))\n",
    "    print()\n",
    "    print(\"Colours used:\",', '.join(min_colours))\n",
    "\n",
    "\n",
    "\n",
    "if __name__ == '__main__':\n",
    "    main()"
   ]
  },
  {
   "cell_type": "code",
   "execution_count": null,
   "metadata": {},
   "outputs": [],
   "source": []
  },
  {
   "cell_type": "code",
   "execution_count": null,
   "metadata": {},
   "outputs": [],
   "source": []
  },
  {
   "cell_type": "code",
   "execution_count": null,
   "metadata": {},
   "outputs": [],
   "source": []
  },
  {
   "cell_type": "code",
   "execution_count": null,
   "metadata": {},
   "outputs": [],
   "source": []
  },
  {
   "cell_type": "code",
   "execution_count": null,
   "metadata": {},
   "outputs": [],
   "source": []
  },
  {
   "cell_type": "code",
   "execution_count": null,
   "metadata": {},
   "outputs": [],
   "source": []
  },
  {
   "cell_type": "code",
   "execution_count": null,
   "metadata": {},
   "outputs": [],
   "source": []
  },
  {
   "cell_type": "code",
   "execution_count": null,
   "metadata": {},
   "outputs": [],
   "source": []
  },
  {
   "cell_type": "code",
   "execution_count": null,
   "metadata": {},
   "outputs": [],
   "source": []
  },
  {
   "cell_type": "code",
   "execution_count": null,
   "metadata": {},
   "outputs": [],
   "source": []
  },
  {
   "cell_type": "code",
   "execution_count": null,
   "metadata": {},
   "outputs": [],
   "source": []
  },
  {
   "cell_type": "code",
   "execution_count": null,
   "metadata": {},
   "outputs": [],
   "source": []
  },
  {
   "cell_type": "code",
   "execution_count": null,
   "metadata": {},
   "outputs": [],
   "source": []
  },
  {
   "cell_type": "code",
   "execution_count": null,
   "metadata": {},
   "outputs": [],
   "source": []
  },
  {
   "cell_type": "code",
   "execution_count": null,
   "metadata": {},
   "outputs": [],
   "source": []
  },
  {
   "cell_type": "code",
   "execution_count": null,
   "metadata": {},
   "outputs": [],
   "source": []
  },
  {
   "cell_type": "code",
   "execution_count": null,
   "metadata": {},
   "outputs": [],
   "source": []
  },
  {
   "cell_type": "code",
   "execution_count": null,
   "metadata": {},
   "outputs": [],
   "source": []
  },
  {
   "cell_type": "code",
   "execution_count": null,
   "metadata": {},
   "outputs": [],
   "source": []
  },
  {
   "cell_type": "code",
   "execution_count": null,
   "metadata": {},
   "outputs": [],
   "source": []
  },
  {
   "cell_type": "code",
   "execution_count": null,
   "metadata": {},
   "outputs": [],
   "source": []
  },
  {
   "cell_type": "code",
   "execution_count": null,
   "metadata": {},
   "outputs": [],
   "source": []
  },
  {
   "cell_type": "code",
   "execution_count": null,
   "metadata": {},
   "outputs": [],
   "source": []
  },
  {
   "cell_type": "code",
   "execution_count": null,
   "metadata": {},
   "outputs": [],
   "source": []
  },
  {
   "cell_type": "code",
   "execution_count": null,
   "metadata": {},
   "outputs": [],
   "source": []
  },
  {
   "cell_type": "code",
   "execution_count": null,
   "metadata": {},
   "outputs": [],
   "source": []
  },
  {
   "cell_type": "code",
   "execution_count": null,
   "metadata": {},
   "outputs": [],
   "source": []
  },
  {
   "cell_type": "code",
   "execution_count": 8,
   "metadata": {},
   "outputs": [],
   "source": [
    "# halla bol"
   ]
  },
  {
   "cell_type": "code",
   "execution_count": null,
   "metadata": {},
   "outputs": [],
   "source": []
  }
 ],
 "metadata": {
  "kernelspec": {
   "display_name": "Python 3",
   "language": "python",
   "name": "python3"
  },
  "language_info": {
   "codemirror_mode": {
    "name": "ipython",
    "version": 3
   },
   "file_extension": ".py",
   "mimetype": "text/x-python",
   "name": "python",
   "nbconvert_exporter": "python",
   "pygments_lexer": "ipython3",
   "version": "3.7.3"
  }
 },
 "nbformat": 4,
 "nbformat_minor": 4
}
